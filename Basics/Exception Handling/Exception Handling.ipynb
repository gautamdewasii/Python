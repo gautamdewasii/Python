{
 "cells": [
  {
   "cell_type": "markdown",
   "id": "702d934c-b576-4c41-9450-7eaaa3c5d977",
   "metadata": {},
   "source": [
    "# <center>Exception Handling\n",
    "NOTE :- exceptions are the runtime errors , and all predefine exceptions are drived from Exception class\n",
    "ex :-<br>\n",
    "AttributeErros <br>\n",
    "FileNotFoundError <br>\n",
    "IndexError <br>\n",
    "KeyError <br>\n",
    "NameError <br>\n",
    "TypeError <br>\n",
    "ValueError <br>\n",
    "ZeroDivisionError <br>"
   ]
  },
  {
   "cell_type": "code",
   "execution_count": 2,
   "id": "7581fd57-93a2-456e-a48f-3c49c060b687",
   "metadata": {},
   "outputs": [
    {
     "name": "stdin",
     "output_type": "stream",
     "text": [
      " 12\n",
      " 0\n"
     ]
    },
    {
     "ename": "ZeroDivisionError",
     "evalue": "division by zero",
     "output_type": "error",
     "traceback": [
      "\u001b[1;31m---------------------------------------------------------------------------\u001b[0m",
      "\u001b[1;31mZeroDivisionError\u001b[0m                         Traceback (most recent call last)",
      "Cell \u001b[1;32mIn[2], line 6\u001b[0m\n\u001b[0;32m      4\u001b[0m a \u001b[38;5;241m=\u001b[39m \u001b[38;5;28mint\u001b[39m(\u001b[38;5;28minput\u001b[39m())\n\u001b[0;32m      5\u001b[0m b \u001b[38;5;241m=\u001b[39m \u001b[38;5;28mint\u001b[39m(\u001b[38;5;28minput\u001b[39m())\n\u001b[1;32m----> 6\u001b[0m c \u001b[38;5;241m=\u001b[39m \u001b[43ma\u001b[49m\u001b[38;5;241;43m/\u001b[39;49m\u001b[43mb\u001b[49m\n\u001b[0;32m      7\u001b[0m \u001b[38;5;28mprint\u001b[39m(c)\n",
      "\u001b[1;31mZeroDivisionError\u001b[0m: division by zero"
     ]
    }
   ],
   "source": [
    "# NOTE :- in this example, if b==0, python compiler automatically  raise an exception,\n",
    "# called \"ZeroDivisionError\" , which is drived from base class called \"Exception\"\n",
    "# due to this exception, program flow stops, and did not execute the print(c)\n",
    "a = int(input())\n",
    "b = int(input())\n",
    "c = a/b\n",
    "print(c)"
   ]
  },
  {
   "cell_type": "markdown",
   "id": "68ef7054-f71d-42b4-a0f7-1e8d24aed3e2",
   "metadata": {},
   "source": [
    "### Handling exception :-"
   ]
  },
  {
   "cell_type": "code",
   "execution_count": 6,
   "id": "942bf36e-f445-477d-b1fa-a94aff76e9fd",
   "metadata": {},
   "outputs": [
    {
     "name": "stdin",
     "output_type": "stream",
     "text": [
      " 12\n",
      " 0\n"
     ]
    },
    {
     "name": "stdout",
     "output_type": "stream",
     "text": [
      " divisble by zero, can't be possible\n",
      "program end\n"
     ]
    }
   ],
   "source": [
    "a = int(input())\n",
    "b = int(input())\n",
    "\n",
    "try:  #used to contain code that may contain exception\n",
    "    c = a / b\n",
    "    print(c)\n",
    "except:  # exception raised on the basis of try block code\n",
    "    print(\" divisble by zero, can't be possible\")\n",
    "else:  # optional :- if not exception, then this block executed\n",
    "    print(\"no exception\")\n",
    "finally:  # optional :- always executed after the exception or else\n",
    "    print(\"program end\")\n"
   ]
  },
  {
   "cell_type": "markdown",
   "id": "b4ebea96-333e-42e6-8c52-f5d6fd6a1f1c",
   "metadata": {},
   "source": [
    "#### Handling single exception :-"
   ]
  },
  {
   "cell_type": "code",
   "execution_count": 8,
   "id": "a3768751-6a88-4744-a5c8-73275d649e49",
   "metadata": {},
   "outputs": [
    {
     "name": "stdin",
     "output_type": "stream",
     "text": [
      " 12\n",
      " 0\n"
     ]
    },
    {
     "name": "stdout",
     "output_type": "stream",
     "text": [
      "12.0\n"
     ]
    },
    {
     "data": {
      "text/plain": [
       "'\\nexcept:\\n    b=1\\n    c=a/b\\n    print(c)\\n\\nor \\nexcept Exception as e:\\n    print(e)\\n\\n'"
      ]
     },
     "execution_count": 8,
     "metadata": {},
     "output_type": "execute_result"
    }
   ],
   "source": [
    "a = int(input())\n",
    "b = int(input())\n",
    "\n",
    "try:\n",
    "    c = a / b\n",
    "    print(c)\n",
    "except ZeroDivisionError:\n",
    "    b=1\n",
    "    c=a/b\n",
    "    print(c)\n",
    "\n",
    "### or\n",
    "\"\"\"\n",
    "except:\n",
    "    b=1\n",
    "    c=a/b\n",
    "    print(c)\n",
    "\n",
    "or \n",
    "except Exception as e:\n",
    "    print(e)\n",
    "\n",
    "\"\"\""
   ]
  },
  {
   "cell_type": "markdown",
   "id": "c3fc32d5-47a4-4bf6-8992-f09607607fc2",
   "metadata": {},
   "source": [
    "#### Handling multiple exceptions :-"
   ]
  },
  {
   "cell_type": "code",
   "execution_count": 11,
   "id": "87ade98f-0f92-4966-9d21-a907515541e5",
   "metadata": {},
   "outputs": [
    {
     "name": "stdin",
     "output_type": "stream",
     "text": [
      " 12\n",
      " 3\n",
      "write any index 2\n"
     ]
    },
    {
     "name": "stdout",
     "output_type": "stream",
     "text": [
      "4.0\n",
      "30\n",
      "can't add two different type of data\n"
     ]
    }
   ],
   "source": [
    "a = int(input())\n",
    "b = int(input())\n",
    "array = [10, 20, 30, 40]\n",
    "index = int(input(\"write any index\"))\n",
    "\n",
    "try:\n",
    "    c = a / b\n",
    "    print(c)\n",
    "    print(array[index])\n",
    "    new = \"str\" + 12\n",
    "except ZeroDivisionError:\n",
    "    print(\"can't be divisible by zero\")\n",
    "except IndexError:\n",
    "    print(\"Can't be reach to this index ( not exists  )\")\n",
    "except TypeError:\n",
    "    print(\"can't add two different type of data\")\n"
   ]
  },
  {
   "cell_type": "code",
   "execution_count": 13,
   "id": "4d5db8e2-0d88-4476-a9f4-6710dc5aa4ce",
   "metadata": {},
   "outputs": [
    {
     "name": "stdin",
     "output_type": "stream",
     "text": [
      " 12\n",
      " 3\n",
      "write any index 7\n"
     ]
    },
    {
     "name": "stdout",
     "output_type": "stream",
     "text": [
      "4.0\n",
      "can't be divisible by zero or index not exists\n"
     ]
    }
   ],
   "source": [
    "a = int(input())\n",
    "b = int(input())\n",
    "array = [10, 20, 30, 40]\n",
    "index = int(input(\"write any index\"))\n",
    "\n",
    "try:\n",
    "    c = a / b\n",
    "    print(c)\n",
    "    print(array[index])\n",
    "    new = \"str\" + 12\n",
    "except (ZeroDivisionError,IndexError):\n",
    "    print(\"can't be divisible by zero or index not exists\")\n",
    "except Exception as e:\n",
    "    print(e)\n",
    "    "
   ]
  },
  {
   "cell_type": "markdown",
   "id": "05ecd335-5727-4ef3-9a7a-f520f7b0cd69",
   "metadata": {},
   "source": [
    "### Raising exception :-"
   ]
  },
  {
   "cell_type": "code",
   "execution_count": 15,
   "id": "1ae15c10-d7aa-4302-80ad-4a9dbf9a0833",
   "metadata": {},
   "outputs": [
    {
     "name": "stdin",
     "output_type": "stream",
     "text": [
      " 12\n",
      " 0\n"
     ]
    },
    {
     "name": "stdout",
     "output_type": "stream",
     "text": [
      "Divisible by zero\n"
     ]
    }
   ],
   "source": [
    "a = int(input())\n",
    "b = int(input())\n",
    "\n",
    "try:\n",
    "    if b==0:\n",
    "        raise ZeroDivisionError(\"Divisible by zero\")\n",
    "    c = a / b\n",
    "    print(c)\n",
    "except ZeroDivisionError as e:\n",
    "    print(e)"
   ]
  },
  {
   "cell_type": "code",
   "execution_count": 16,
   "id": "dcefc7fb-6ba4-458e-ac9d-8eb418d9e68f",
   "metadata": {},
   "outputs": [
    {
     "name": "stdin",
     "output_type": "stream",
     "text": [
      " 123\n"
     ]
    },
    {
     "name": "stdout",
     "output_type": "stream",
     "text": [
      "Marks should be within 0 to 100 range\n"
     ]
    }
   ],
   "source": [
    "marks = int(input())\n",
    "\n",
    "try:\n",
    "    if marks<0 or marks>100:\n",
    "        raise Exception(\"Marks should be within 0 to 100 range\")\n",
    "except Exception as e:\n",
    "    print(e)"
   ]
  },
  {
   "cell_type": "markdown",
   "id": "9b844663-10c4-4186-83da-fe8c2c12297f",
   "metadata": {},
   "source": [
    "### User define Exception :-"
   ]
  },
  {
   "cell_type": "code",
   "execution_count": 17,
   "id": "2d054f39-e02b-4ee8-9171-91e125ece104",
   "metadata": {},
   "outputs": [
    {
     "name": "stdin",
     "output_type": "stream",
     "text": [
      " 1344\n"
     ]
    },
    {
     "name": "stdout",
     "output_type": "stream",
     "text": [
      "Marks should be within 0 to 100 range\n"
     ]
    }
   ],
   "source": [
    "class InvalidMarks(Exception):\n",
    "    pass\n",
    "\n",
    "marks = int(input())\n",
    "\n",
    "try:\n",
    "    if marks<0 or marks>100:\n",
    "        raise InvalidMarks(\"Marks should be within 0 to 100 range\")\n",
    "except InvalidMarks as e:\n",
    "    print(e)"
   ]
  },
  {
   "cell_type": "code",
   "execution_count": null,
   "id": "7a4655dc-50e5-447d-ac86-ce575422f308",
   "metadata": {},
   "outputs": [],
   "source": []
  }
 ],
 "metadata": {
  "kernelspec": {
   "display_name": "Python 3 (ipykernel)",
   "language": "python",
   "name": "python3"
  },
  "language_info": {
   "codemirror_mode": {
    "name": "ipython",
    "version": 3
   },
   "file_extension": ".py",
   "mimetype": "text/x-python",
   "name": "python",
   "nbconvert_exporter": "python",
   "pygments_lexer": "ipython3",
   "version": "3.11.2"
  }
 },
 "nbformat": 4,
 "nbformat_minor": 5
}
